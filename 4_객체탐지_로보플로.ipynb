{
 "cells": [
  {
   "cell_type": "markdown",
   "id": "1c66a82e",
   "metadata": {},
   "source": [
    "# 가상환경 torch_cuda_yolo_env"
   ]
  },
  {
   "cell_type": "code",
   "execution_count": 1,
   "id": "b1000829",
   "metadata": {},
   "outputs": [
    {
     "name": "stdout",
     "output_type": "stream",
     "text": [
      "torch: 2.6.0+cu124 cuda: 12.4 is_available: True\n"
     ]
    }
   ],
   "source": [
    "import torch\n",
    "print(\"torch:\", torch.__version__, \"cuda:\", torch.version.cuda, \"is_available:\", torch.cuda.is_available())"
   ]
  },
  {
   "cell_type": "code",
   "execution_count": null,
   "id": "6d5e7943",
   "metadata": {},
   "outputs": [],
   "source": [
    "import os\n",
    "from dotenv import load_dotenv\n",
    "loaded = load_dotenv()\n",
    "# os.getenv(\"ROBOFLOW_API_KEY\")"
   ]
  },
  {
   "cell_type": "code",
   "execution_count": 4,
   "id": "3ec53163",
   "metadata": {},
   "outputs": [
    {
     "data": {
      "text/plain": [
       "<inference_sdk.http.client.InferenceHTTPClient at 0x256e8bb0940>"
      ]
     },
     "execution_count": 4,
     "metadata": {},
     "output_type": "execute_result"
    }
   ],
   "source": [
    "from inference_sdk import InferenceHTTPClient\n",
    "CLIENT = InferenceHTTPClient(\n",
    "    api_url=\"https://detect.roboflow.com\",\n",
    "    api_key=os.getenv(\"ROBOFLOW_API_KEY\")\n",
    ")\n",
    "CLIENT"
   ]
  },
  {
   "cell_type": "code",
   "execution_count": 7,
   "id": "03a36111",
   "metadata": {},
   "outputs": [
    {
     "data": {
      "text/plain": [
       "{'inference_id': '8c0b7722-a77a-40e6-b40d-97bf4758541b',\n",
       " 'time': 0.04968818800080044,\n",
       " 'image': {'width': 580, 'height': 614},\n",
       " 'predictions': [{'x': 129.5,\n",
       "   'y': 119.0,\n",
       "   'width': 257.0,\n",
       "   'height': 96.0,\n",
       "   'confidence': 0.8729892373085022,\n",
       "   'class': 'Scissors',\n",
       "   'class_id': 2,\n",
       "   'detection_id': '855188de-9042-456f-b121-6e28e64fcfd2'},\n",
       "  {'x': 117.0,\n",
       "   'y': 316.5,\n",
       "   'width': 230.0,\n",
       "   'height': 123.0,\n",
       "   'confidence': 0.7074464559555054,\n",
       "   'class': 'Paper',\n",
       "   'class_id': 0,\n",
       "   'detection_id': 'cd046009-796c-40e2-8623-befeb1ecf59e'},\n",
       "  {'x': 128.0,\n",
       "   'y': 502.5,\n",
       "   'width': 254.0,\n",
       "   'height': 109.0,\n",
       "   'confidence': 0.4878521263599396,\n",
       "   'class': 'Paper',\n",
       "   'class_id': 0,\n",
       "   'detection_id': 'cce31e42-802b-4d66-8e8a-d5f3dc30775c'}]}"
      ]
     },
     "execution_count": 7,
     "metadata": {},
     "output_type": "execute_result"
    }
   ],
   "source": [
    "result = CLIENT.infer('sample.png',model_id='rock-paper-scissors-sxsw/14')\n",
    "result"
   ]
  },
  {
   "cell_type": "code",
   "execution_count": 8,
   "id": "d54b6964",
   "metadata": {},
   "outputs": [
    {
     "name": "stdout",
     "output_type": "stream",
     "text": [
      "129.5 119.0 257.0 96.0 0.8729892373085022 Scissors\n",
      "117.0 316.5 230.0 123.0 0.7074464559555054 Paper\n",
      "128.0 502.5 254.0 109.0 0.4878521263599396 Paper\n"
     ]
    }
   ],
   "source": [
    "for pred in result['predictions']:\n",
    "    x = pred['x']\n",
    "    y = pred['y']\n",
    "    width = pred['width']\n",
    "    height = pred['height']\n",
    "    conf = pred['confidence']\n",
    "    obj_class = pred['class']\n",
    "    print(x,y,width,height,conf,obj_class)"
   ]
  }
 ],
 "metadata": {
  "kernelspec": {
   "display_name": "torch_cuda_yolo_env",
   "language": "python",
   "name": "python3"
  },
  "language_info": {
   "codemirror_mode": {
    "name": "ipython",
    "version": 3
   },
   "file_extension": ".py",
   "mimetype": "text/x-python",
   "name": "python",
   "nbconvert_exporter": "python",
   "pygments_lexer": "ipython3",
   "version": "3.10.18"
  }
 },
 "nbformat": 4,
 "nbformat_minor": 5
}
