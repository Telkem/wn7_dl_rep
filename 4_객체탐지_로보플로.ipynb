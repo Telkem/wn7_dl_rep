{
 "cells": [
  {
   "cell_type": "markdown",
   "id": "1c66a82e",
   "metadata": {},
   "source": [
    "# 가상환경 torch_cuda_yolo_env"
   ]
  },
  {
   "cell_type": "markdown",
   "id": "0053614c",
   "metadata": {},
   "source": [
    "# 추론 : 배포한 공유모델로 객체감지"
   ]
  },
  {
   "cell_type": "code",
   "execution_count": 1,
   "id": "b1000829",
   "metadata": {},
   "outputs": [
    {
     "name": "stdout",
     "output_type": "stream",
     "text": [
      "torch: 2.6.0+cu124 cuda: 12.4 is_available: True\n"
     ]
    }
   ],
   "source": [
    "import torch\n",
    "print(\"torch:\", torch.__version__, \"cuda:\", torch.version.cuda, \"is_available:\", torch.cuda.is_available())"
   ]
  },
  {
   "cell_type": "code",
   "execution_count": null,
   "id": "6d5e7943",
   "metadata": {},
   "outputs": [],
   "source": [
    "import os\n",
    "from dotenv import load_dotenv\n",
    "loaded = load_dotenv()\n",
    "# os.getenv(\"ROBOFLOW_API_KEY\")"
   ]
  },
  {
   "cell_type": "code",
   "execution_count": 4,
   "id": "3ec53163",
   "metadata": {},
   "outputs": [
    {
     "data": {
      "text/plain": [
       "<inference_sdk.http.client.InferenceHTTPClient at 0x256e8bb0940>"
      ]
     },
     "execution_count": 4,
     "metadata": {},
     "output_type": "execute_result"
    }
   ],
   "source": [
    "from inference_sdk import InferenceHTTPClient\n",
    "CLIENT = InferenceHTTPClient(\n",
    "    api_url=\"https://detect.roboflow.com\",\n",
    "    api_key=os.getenv(\"ROBOFLOW_API_KEY\")\n",
    ")\n",
    "CLIENT"
   ]
  },
  {
   "cell_type": "code",
   "execution_count": 7,
   "id": "03a36111",
   "metadata": {},
   "outputs": [
    {
     "data": {
      "text/plain": [
       "{'inference_id': '8c0b7722-a77a-40e6-b40d-97bf4758541b',\n",
       " 'time': 0.04968818800080044,\n",
       " 'image': {'width': 580, 'height': 614},\n",
       " 'predictions': [{'x': 129.5,\n",
       "   'y': 119.0,\n",
       "   'width': 257.0,\n",
       "   'height': 96.0,\n",
       "   'confidence': 0.8729892373085022,\n",
       "   'class': 'Scissors',\n",
       "   'class_id': 2,\n",
       "   'detection_id': '855188de-9042-456f-b121-6e28e64fcfd2'},\n",
       "  {'x': 117.0,\n",
       "   'y': 316.5,\n",
       "   'width': 230.0,\n",
       "   'height': 123.0,\n",
       "   'confidence': 0.7074464559555054,\n",
       "   'class': 'Paper',\n",
       "   'class_id': 0,\n",
       "   'detection_id': 'cd046009-796c-40e2-8623-befeb1ecf59e'},\n",
       "  {'x': 128.0,\n",
       "   'y': 502.5,\n",
       "   'width': 254.0,\n",
       "   'height': 109.0,\n",
       "   'confidence': 0.4878521263599396,\n",
       "   'class': 'Paper',\n",
       "   'class_id': 0,\n",
       "   'detection_id': 'cce31e42-802b-4d66-8e8a-d5f3dc30775c'}]}"
      ]
     },
     "execution_count": 7,
     "metadata": {},
     "output_type": "execute_result"
    }
   ],
   "source": [
    "result = CLIENT.infer('sample.png',model_id='rock-paper-scissors-sxsw/14')\n",
    "result"
   ]
  },
  {
   "cell_type": "code",
   "execution_count": 9,
   "id": "d54b6964",
   "metadata": {},
   "outputs": [
    {
     "name": "stdout",
     "output_type": "stream",
     "text": [
      "129.5 119.0 257.0 96.0 0.8729892373085022 Scissors\n",
      "117.0 316.5 230.0 123.0 0.7074464559555054 Paper\n",
      "128.0 502.5 254.0 109.0 0.4878521263599396 Paper\n"
     ]
    }
   ],
   "source": [
    "import cv2\n",
    "img= cv2.imread('sample.png')\n",
    "\n",
    "for pred in result['predictions']:\n",
    "    x = pred['x']\n",
    "    y = pred['y']\n",
    "    width = pred['width']\n",
    "    height = pred['height']\n",
    "    conf = pred['confidence']\n",
    "    obj_class = pred['class']\n",
    "    \n",
    "    x1, y1 = int(x-width/2), int(y-height/2)\n",
    "    x2, y2 = int(x+width/2), int(y+height/2)\n",
    "    cv2.rectangle(img, (x1,y1), (x2, y2), (0,0,255), 2)\n",
    "    cv2.putText(img, f'{obj_class} {conf:.4f}', (x1,y1), cv2.FONT_HERSHEY_PLAIN, 2, (0,0,255))\n",
    "    \n",
    "    print(x,y,width,height,conf,obj_class)\n",
    "    \n",
    "cv2.imshow('image', img)\n",
    "cv2.waitKey()\n",
    "cv2.destroyAllWindows()"
   ]
  },
  {
   "cell_type": "code",
   "execution_count": 30,
   "id": "a0e5008b",
   "metadata": {},
   "outputs": [
    {
     "data": {
      "text/plain": [
       "{'inference_id': 'ecc8a356-2ed8-4f6d-af9c-1d36161eb480',\n",
       " 'time': 0.10049987599995802,\n",
       " 'image': {'width': 416, 'height': 416},\n",
       " 'predictions': [{'x': 140.0,\n",
       "   'y': 209.0,\n",
       "   'width': 24.0,\n",
       "   'height': 32.0,\n",
       "   'confidence': 0.6804451942443848,\n",
       "   'class': '8',\n",
       "   'class_id': 8,\n",
       "   'detection_id': '6724ad75-0a69-4cfe-b4e5-80af5e20713f'},\n",
       "  {'x': 192.5,\n",
       "   'y': 220.0,\n",
       "   'width': 13.0,\n",
       "   'height': 20.0,\n",
       "   'confidence': 0.6476726531982422,\n",
       "   'class': '8',\n",
       "   'class_id': 8,\n",
       "   'detection_id': 'ce6f0d03-fd9d-45e1-8ea2-b9b78aefbd9c'}]}"
      ]
     },
     "execution_count": 30,
     "metadata": {},
     "output_type": "execute_result"
    }
   ],
   "source": [
    "result = CLIENT.infer('mnist/000001.jpg', model_id='numbers-xnrog/2')\n",
    "result"
   ]
  },
  {
   "cell_type": "markdown",
   "id": "2fb00f23",
   "metadata": {},
   "source": [
    "# model 가져오기"
   ]
  },
  {
   "cell_type": "code",
   "execution_count": 37,
   "id": "15083b43",
   "metadata": {},
   "outputs": [
    {
     "name": "stdout",
     "output_type": "stream",
     "text": [
      "loading Roboflow workspace...\n",
      "loading Roboflow project...\n"
     ]
    },
    {
     "data": {
      "text/plain": [
       "<roboflow.models.object_detection.ObjectDetectionModel at 0x256bc13ba90>"
      ]
     },
     "execution_count": 37,
     "metadata": {},
     "output_type": "execute_result"
    }
   ],
   "source": [
    "from roboflow import Roboflow\n",
    "import cv2\n",
    "rf = Roboflow(api_key=os.getenv(\"ROBOFLOW_API_KEY\"))\n",
    "project = rf.workspace().project('numbers-yt0h2')\n",
    "numbers_model = project.version(2).model\n",
    "numbers_model"
   ]
  },
  {
   "cell_type": "code",
   "execution_count": 38,
   "id": "516ddf17",
   "metadata": {},
   "outputs": [
    {
     "name": "stdout",
     "output_type": "stream",
     "text": [
      "{'predictions': [{'x': 156, 'y': 236, 'width': 49, 'height': 41, 'confidence': 0.5040796995162964, 'class': '2', 'class_id': 2, 'detection_id': '062cc7ea-8d9b-4264-90ce-ebbff91b5171', 'image_path': 'mnist/000001.jpg', 'prediction_type': 'ObjectDetectionModel'}], 'image': {'width': '416', 'height': '416'}}\n"
     ]
    }
   ],
   "source": [
    "result = numbers_model.predict('mnist/000001.jpg', confidence=40, overlap=30)\n",
    "result_json = result.json()\n",
    "print(result_json)"
   ]
  },
  {
   "cell_type": "code",
   "execution_count": 39,
   "id": "a9f13c4d",
   "metadata": {},
   "outputs": [
    {
     "name": "stdout",
     "output_type": "stream",
     "text": [
      "156 236 49 41 0.5040796995162964 2\n"
     ]
    }
   ],
   "source": [
    "img= cv2.imread('mnist/000001.jpg')\n",
    "for pred in result_json['predictions']:\n",
    "    x = pred['x']\n",
    "    y = pred['y']\n",
    "    width = pred['width']\n",
    "    height = pred['height']\n",
    "    conf = pred['confidence']\n",
    "    obj_class = pred['class']\n",
    "    \n",
    "    x1, y1 = int(x-width/2), int(y-height/2)\n",
    "    x2, y2 = int(x+width/2), int(y+height/2)\n",
    "    cv2.rectangle(img, (x1,y1), (x2, y2), (0,0,255), 2)\n",
    "    cv2.putText(img, f'{obj_class} {conf:.4f}', (x1,y1), cv2.FONT_HERSHEY_PLAIN, 2, (0,0,255))\n",
    "    \n",
    "    print(x,y,width,height,conf,obj_class)\n",
    "    \n",
    "cv2.imshow('image', img)\n",
    "cv2.waitKey()\n",
    "cv2.destroyAllWindows()"
   ]
  }
 ],
 "metadata": {
  "kernelspec": {
   "display_name": "torch_cuda_yolo_env",
   "language": "python",
   "name": "python3"
  },
  "language_info": {
   "codemirror_mode": {
    "name": "ipython",
    "version": 3
   },
   "file_extension": ".py",
   "mimetype": "text/x-python",
   "name": "python",
   "nbconvert_exporter": "python",
   "pygments_lexer": "ipython3",
   "version": "3.10.18"
  }
 },
 "nbformat": 4,
 "nbformat_minor": 5
}
