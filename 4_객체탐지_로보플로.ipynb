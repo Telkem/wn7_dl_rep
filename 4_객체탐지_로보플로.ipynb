{
 "cells": [
  {
   "cell_type": "markdown",
   "id": "1c66a82e",
   "metadata": {},
   "source": [
    "# 가상환경 torch_cuda_yolo_env"
   ]
  },
  {
   "cell_type": "code",
   "execution_count": 1,
   "id": "b1000829",
   "metadata": {},
   "outputs": [
    {
     "name": "stdout",
     "output_type": "stream",
     "text": [
      "torch: 2.6.0+cu124 cuda: 12.4 is_available: True\n"
     ]
    }
   ],
   "source": [
    "import torch\n",
    "print(\"torch:\", torch.__version__, \"cuda:\", torch.version.cuda, \"is_available:\", torch.cuda.is_available())"
   ]
  },
  {
   "cell_type": "code",
   "execution_count": 3,
   "id": "6d5e7943",
   "metadata": {},
   "outputs": [],
   "source": [
    "import os\n",
    "from dotenv import load_dotenv\n",
    "loaded = load_dotenv()"
   ]
  },
  {
   "cell_type": "code",
   "execution_count": 4,
   "id": "3ec53163",
   "metadata": {},
   "outputs": [
    {
     "data": {
      "text/plain": [
       "<inference_sdk.http.client.InferenceHTTPClient at 0x256e8bb0940>"
      ]
     },
     "execution_count": 4,
     "metadata": {},
     "output_type": "execute_result"
    }
   ],
   "source": [
    "from inference_sdk import InferenceHTTPClient\n",
    "CLIENT = InferenceHTTPClient(\n",
    "    api_url=\"https://detect.roboflow.com\",\n",
    "    api_key=os.getenv(\"ROBOFLOW_API_KEY\")\n",
    ")\n",
    "CLIENT"
   ]
  },
  {
   "cell_type": "code",
   "execution_count": 5,
   "id": "03a36111",
   "metadata": {},
   "outputs": [
    {
     "data": {
      "text/plain": [
       "{'inference_id': 'f9eb2012-6c6d-4947-ae8f-a87b7efc363b',\n",
       " 'time': 0.0398653309994188,\n",
       " 'image': {'width': 620, 'height': 413},\n",
       " 'predictions': [{'x': 145.0,\n",
       "   'y': 238.0,\n",
       "   'width': 148.0,\n",
       "   'height': 132.0,\n",
       "   'confidence': 0.8332926630973816,\n",
       "   'class': 'Rock',\n",
       "   'class_id': 1,\n",
       "   'detection_id': 'dd06976b-7f80-4d15-b4be-acb900317a83'},\n",
       "  {'x': 444.0,\n",
       "   'y': 166.5,\n",
       "   'width': 318.0,\n",
       "   'height': 129.0,\n",
       "   'confidence': 0.7048391103744507,\n",
       "   'class': 'Scissors',\n",
       "   'class_id': 2,\n",
       "   'detection_id': '167bcb59-8567-4e01-b888-94b35cde2a2c'}]}"
      ]
     },
     "execution_count": 5,
     "metadata": {},
     "output_type": "execute_result"
    }
   ],
   "source": [
    "result = CLIENT.infer('sample.png',model_id='rock-paper-scissors-sxsw/14')\n",
    "result"
   ]
  },
  {
   "cell_type": "code",
   "execution_count": null,
   "id": "d54b6964",
   "metadata": {},
   "outputs": [],
   "source": [
    "for pred in result['predictions']:\n",
    "    x = pred['x']\n",
    "    y = pred['y']\n",
    "    width = pred['width']\n",
    "    height = pred['height']\n",
    "    conf = pred['confidence']\n",
    "    obj_class = pred['class']\n",
    "    print(x,y,width,height,conf,obj_class)"
   ]
  }
 ],
 "metadata": {
  "kernelspec": {
   "display_name": "torch_cuda_yolo_env",
   "language": "python",
   "name": "python3"
  },
  "language_info": {
   "codemirror_mode": {
    "name": "ipython",
    "version": 3
   },
   "file_extension": ".py",
   "mimetype": "text/x-python",
   "name": "python",
   "nbconvert_exporter": "python",
   "pygments_lexer": "ipython3",
   "version": "3.10.18"
  }
 },
 "nbformat": 4,
 "nbformat_minor": 5
}
