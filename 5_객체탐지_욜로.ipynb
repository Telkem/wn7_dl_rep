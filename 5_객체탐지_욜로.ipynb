{
 "cells": [
  {
   "cell_type": "markdown",
   "id": "21c2ac15",
   "metadata": {},
   "source": [
    "# 객체감지"
   ]
  },
  {
   "cell_type": "code",
   "execution_count": 4,
   "id": "4356a4f5",
   "metadata": {},
   "outputs": [
    {
     "name": "stdout",
     "output_type": "stream",
     "text": [
      "\n",
      "image 1/1 c:\\githome\\wn7_dl_rep\\sample.jpg: 384x640 1 cat, 1 bed, 36.2ms\n",
      "Speed: 3.0ms preprocess, 36.2ms inference, 6.3ms postprocess per image at shape (1, 3, 384, 640)\n"
     ]
    },
    {
     "data": {
      "text/plain": [
       "[ultralytics.engine.results.Results object with attributes:\n",
       " \n",
       " boxes: ultralytics.engine.results.Boxes object\n",
       " keypoints: None\n",
       " masks: None\n",
       " names: {0: 'person', 1: 'bicycle', 2: 'car', 3: 'motorcycle', 4: 'airplane', 5: 'bus', 6: 'train', 7: 'truck', 8: 'boat', 9: 'traffic light', 10: 'fire hydrant', 11: 'stop sign', 12: 'parking meter', 13: 'bench', 14: 'bird', 15: 'cat', 16: 'dog', 17: 'horse', 18: 'sheep', 19: 'cow', 20: 'elephant', 21: 'bear', 22: 'zebra', 23: 'giraffe', 24: 'backpack', 25: 'umbrella', 26: 'handbag', 27: 'tie', 28: 'suitcase', 29: 'frisbee', 30: 'skis', 31: 'snowboard', 32: 'sports ball', 33: 'kite', 34: 'baseball bat', 35: 'baseball glove', 36: 'skateboard', 37: 'surfboard', 38: 'tennis racket', 39: 'bottle', 40: 'wine glass', 41: 'cup', 42: 'fork', 43: 'knife', 44: 'spoon', 45: 'bowl', 46: 'banana', 47: 'apple', 48: 'sandwich', 49: 'orange', 50: 'broccoli', 51: 'carrot', 52: 'hot dog', 53: 'pizza', 54: 'donut', 55: 'cake', 56: 'chair', 57: 'couch', 58: 'potted plant', 59: 'bed', 60: 'dining table', 61: 'toilet', 62: 'tv', 63: 'laptop', 64: 'mouse', 65: 'remote', 66: 'keyboard', 67: 'cell phone', 68: 'microwave', 69: 'oven', 70: 'toaster', 71: 'sink', 72: 'refrigerator', 73: 'book', 74: 'clock', 75: 'vase', 76: 'scissors', 77: 'teddy bear', 78: 'hair drier', 79: 'toothbrush'}\n",
       " obb: None\n",
       " orig_img: array([[[103,  89,  90],\n",
       "         [104,  92,  92],\n",
       "         [103,  92,  94],\n",
       "         ...,\n",
       "         [ 64,  58,  59],\n",
       "         [ 65,  59,  60],\n",
       "         [ 65,  59,  60]],\n",
       " \n",
       "        [[108,  92,  93],\n",
       "         [105,  91,  93],\n",
       "         [103,  90,  92],\n",
       "         ...,\n",
       "         [ 64,  58,  59],\n",
       "         [ 64,  58,  59],\n",
       "         [ 65,  59,  60]],\n",
       " \n",
       "        [[109,  88,  91],\n",
       "         [106,  87,  90],\n",
       "         [ 99,  84,  88],\n",
       "         ...,\n",
       "         [ 64,  58,  59],\n",
       "         [ 64,  58,  59],\n",
       "         [ 66,  60,  61]],\n",
       " \n",
       "        ...,\n",
       " \n",
       "        [[181, 192, 190],\n",
       "         [181, 192, 190],\n",
       "         [181, 192, 190],\n",
       "         ...,\n",
       "         [153, 149, 144],\n",
       "         [153, 149, 144],\n",
       "         [151, 147, 142]],\n",
       " \n",
       "        [[182, 193, 191],\n",
       "         [182, 193, 191],\n",
       "         [182, 193, 191],\n",
       "         ...,\n",
       "         [152, 148, 143],\n",
       "         [151, 147, 142],\n",
       "         [154, 150, 145]],\n",
       " \n",
       "        [[181, 192, 190],\n",
       "         [182, 193, 191],\n",
       "         [182, 193, 191],\n",
       "         ...,\n",
       "         [151, 147, 142],\n",
       "         [150, 147, 139],\n",
       "         [152, 148, 143]]], dtype=uint8)\n",
       " orig_shape: (1193, 2121)\n",
       " path: 'c:\\\\githome\\\\wn7_dl_rep\\\\sample.jpg'\n",
       " probs: None\n",
       " save_dir: 'runs\\\\detect\\\\predict'\n",
       " speed: {'preprocess': 2.9863999952794984, 'inference': 36.19739999703597, 'postprocess': 6.302399997366592}]"
      ]
     },
     "execution_count": 4,
     "metadata": {},
     "output_type": "execute_result"
    }
   ],
   "source": [
    "from ultralytics import YOLO\n",
    "\n",
    "model = YOLO('yolov8n.pt')\n",
    "result = model('sample.jpg')\n",
    "result"
   ]
  },
  {
   "cell_type": "code",
   "execution_count": 26,
   "id": "5e60bbcf",
   "metadata": {},
   "outputs": [
    {
     "name": "stdout",
     "output_type": "stream",
     "text": [
      "\n",
      "image 1/1 c:\\githome\\wn7_dl_rep\\sample.jpg: 384x640 1 cat, 1 bed, 18.8ms\n",
      "Speed: 3.7ms preprocess, 18.8ms inference, 3.5ms postprocess per image at shape (1, 3, 384, 640)\n"
     ]
    },
    {
     "data": {
      "text/plain": [
       "ultralytics.engine.results.Boxes object with attributes:\n",
       "\n",
       "cls: tensor([15., 59.], device='cuda:0')\n",
       "conf: tensor([0.9199, 0.3141], device='cuda:0')\n",
       "data: tensor([[1.3989e+02, 1.6935e+01, 8.4657e+02, 4.5707e+02, 9.1994e-01, 1.5000e+01],\n",
       "        [1.4731e+01, 9.3849e-01, 8.4567e+02, 4.6657e+02, 3.1414e-01, 5.9000e+01]], device='cuda:0')\n",
       "id: None\n",
       "is_track: False\n",
       "orig_shape: (478, 849)\n",
       "shape: torch.Size([2, 6])\n",
       "xywh: tensor([[493.2305, 237.0033, 706.6719, 440.1364],\n",
       "        [430.2020, 233.7550, 830.9418, 465.6331]], device='cuda:0')\n",
       "xywhn: tensor([[0.5810, 0.4958, 0.8324, 0.9208],\n",
       "        [0.5067, 0.4890, 0.9787, 0.9741]], device='cuda:0')\n",
       "xyxy: tensor([[139.8945,  16.9351, 846.5665, 457.0715],\n",
       "        [ 14.7311,   0.9385, 845.6729, 466.5715]], device='cuda:0')\n",
       "xyxyn: tensor([[0.1648, 0.0354, 0.9971, 0.9562],\n",
       "        [0.0174, 0.0020, 0.9961, 0.9761]], device='cuda:0')"
      ]
     },
     "execution_count": 26,
     "metadata": {},
     "output_type": "execute_result"
    }
   ],
   "source": [
    "# 바운딩박스, 라벨 출력\n",
    "result = model('sample.jpg')\n",
    "result[0].boxes"
   ]
  },
  {
   "cell_type": "code",
   "execution_count": 27,
   "id": "029bb7ea",
   "metadata": {},
   "outputs": [],
   "source": [
    "import cv2\n",
    "img = cv2.imread('sample.jpg')"
   ]
  },
  {
   "cell_type": "code",
   "execution_count": 29,
   "id": "c946c20c",
   "metadata": {},
   "outputs": [
    {
     "data": {
      "text/plain": [
       "True"
      ]
     },
     "execution_count": 29,
     "metadata": {},
     "output_type": "execute_result"
    }
   ],
   "source": [
    "\n",
    "\n",
    "for box in result[0].boxes:\n",
    "    class_id = box.cls[0]\n",
    "    class_name = model.names[class_id.item()]\n",
    "    \n",
    "    #신뢰도점수\n",
    "    conf = float(box.conf[0])\n",
    "    \n",
    "    #바운딩 박스\n",
    "    cords = box.xyxy[0].tolist()\n",
    "    x1,y1,x2,y2 = map(int, cords)\n",
    "    cv2.rectangle(img, (x1,y1), (x2,y2), (0,0,255), 2)\n",
    "    cv2.putText(img, f'{class_name} {conf:.4f}', (x1,y1), cv2.FONT_HERSHEY_PLAIN, 2, (0,0,255))\n",
    "\n",
    "\n",
    "cv2.imshow('yolov8 object detection', img)\n",
    "cv2.waitKey()\n",
    "cv2.destroyAllWindows()\n",
    "cv2.imwrite('detect_result.jpg', img)"
   ]
  },
  {
   "cell_type": "markdown",
   "id": "d034d18e",
   "metadata": {},
   "source": [
    "# segmentation"
   ]
  },
  {
   "cell_type": "code",
   "execution_count": 55,
   "id": "fa54a8a6",
   "metadata": {},
   "outputs": [
    {
     "name": "stdout",
     "output_type": "stream",
     "text": [
      "\n",
      "image 1/1 c:\\githome\\wn7_dl_rep\\sample.jpg: 384x640 1 cat, 24.4ms\n",
      "Speed: 3.3ms preprocess, 24.4ms inference, 3.7ms postprocess per image at shape (1, 3, 384, 640)\n"
     ]
    }
   ],
   "source": [
    "from ultralytics import YOLO\n",
    "\n",
    "model = YOLO('yolov8n-seg.pt')\n",
    "result = model('sample.jpg')\n",
    "result[0].show()"
   ]
  },
  {
   "cell_type": "code",
   "execution_count": null,
   "id": "17045322",
   "metadata": {},
   "outputs": [
    {
     "data": {
      "text/plain": [
       "True"
      ]
     },
     "execution_count": 46,
     "metadata": {},
     "output_type": "execute_result"
    }
   ],
   "source": [
    "import numpy as np\n",
    "\n",
    "img_new = cv2.imread('sample.jpg')\n",
    "overlay = img_new.copy() #마스크용\n",
    "\n",
    "for box, mask in zip(result[0].boxes, result[0].masks):\n",
    "    polygon = mask.xy[0].astype(np.int32)\n",
    "    cv2.fillPoly(overlay, [polygon], (0,255,0))\n",
    "    class_id = box.cls[0]\n",
    "    class_name = model.names[class_id.item()]\n",
    "    \n",
    "    #신뢰도점수\n",
    "    conf = float(box.conf[0])\n",
    "    \n",
    "    #바운딩 박스\n",
    "    cords = box.xyxy[0].tolist()\n",
    "    x1,y1,x2,y2 = map(int, cords)\n",
    "    cv2.rectangle(img_new, (x1,y1), (x2,y2), (0,0,255), 2)\n",
    "    cv2.putText(img_new, f'{class_name} {conf:.4f}', (x1,y1), cv2.FONT_HERSHEY_PLAIN, 2, (0,0,255))\n",
    "\n",
    "#img_new + overlay 겹쳐서 출력\n",
    "alpha = 0.5\n",
    "final_img = cv2.addWeighted(overlay,alpha, img_new,1-alpha, 0)\n",
    "\n",
    "#최종출력\n",
    "cv2.imshow('yolov8 object segmention', final_img)\n",
    "cv2.waitKey()\n",
    "cv2.destroyAllWindows()\n",
    "cv2.imwrite('detect_result.jpg', final_img)"
   ]
  },
  {
   "cell_type": "markdown",
   "id": "28441a63",
   "metadata": {},
   "source": [
    "# 분류 (생략)\n",
    "# 자세"
   ]
  },
  {
   "cell_type": "code",
   "execution_count": 58,
   "id": "5865edd6",
   "metadata": {},
   "outputs": [
    {
     "name": "stdout",
     "output_type": "stream",
     "text": [
      "\n",
      "image 1/1 c:\\githome\\wn7_dl_rep\\sample1.jpg: 640x480 3 persons, 27.3ms\n",
      "Speed: 2.5ms preprocess, 27.3ms inference, 6.5ms postprocess per image at shape (1, 3, 640, 480)\n"
     ]
    },
    {
     "data": {
      "text/plain": [
       "True"
      ]
     },
     "execution_count": 58,
     "metadata": {},
     "output_type": "execute_result"
    }
   ],
   "source": [
    "pose_model = YOLO('yolov8n-pose.pt')\n",
    "pose_result = pose_model('sample1.jpg')\n",
    "image = cv2.imread('sample1.jpg')\n",
    "\n",
    "kp = pose_result[0].keypoints\n",
    "\n",
    "for man_kp in kp:\n",
    "    for x,y in man_kp.xy[0]:\n",
    "        if x>0 and y>0:\n",
    "            cv2.circle(image,(int(x), int(y)), 3, (0,0,255), -1)\n",
    "            \n",
    "cv2.imshow('yolov8 pose estimation', image)\n",
    "cv2.waitKey()\n",
    "cv2.destroyAllWindows()\n",
    "cv2.imwrite('pose_result.jpg', image)\n",
    "            "
   ]
  },
  {
   "cell_type": "code",
   "execution_count": null,
   "id": "2b29bc2f",
   "metadata": {},
   "outputs": [],
   "source": []
  }
 ],
 "metadata": {
  "kernelspec": {
   "display_name": "torch_cuda_yolo_env",
   "language": "python",
   "name": "python3"
  },
  "language_info": {
   "codemirror_mode": {
    "name": "ipython",
    "version": 3
   },
   "file_extension": ".py",
   "mimetype": "text/x-python",
   "name": "python",
   "nbconvert_exporter": "python",
   "pygments_lexer": "ipython3",
   "version": "3.10.18"
  }
 },
 "nbformat": 4,
 "nbformat_minor": 5
}
