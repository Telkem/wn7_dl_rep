{
 "cells": [
  {
   "cell_type": "markdown",
   "id": "31853b96",
   "metadata": {},
   "source": [
    "# 단어의 임베딩\n",
    "- 빈도수 계산 : 빈도기반 - TF 상대빈도\n",
    "- TDM : matrix  TF를 행렬로 만든 것\n",
    "- TF-IDF : TF*IDF\n",
    "- IDF : 역문서빈도"
   ]
  },
  {
   "cell_type": "code",
   "execution_count": 1,
   "id": "503b80db",
   "metadata": {},
   "outputs": [
    {
     "data": {
      "text/plain": [
       "['John',\n",
       " 'likes',\n",
       " 'to',\n",
       " 'watch',\n",
       " 'movies',\n",
       " 'Mary',\n",
       " 'likes',\n",
       " 'movies',\n",
       " 'too',\n",
       " 'Mary',\n",
       " 'also',\n",
       " 'likes',\n",
       " 'to',\n",
       " 'watch',\n",
       " 'football',\n",
       " 'games']"
      ]
     },
     "execution_count": 1,
     "metadata": {},
     "output_type": "execute_result"
    }
   ],
   "source": [
    "text = \"John likes to watch movies. Mary likes movies too.\\\n",
    "    Mary also likes to watch football games.\"\n",
    "words = text.replace('.', '').split()\n",
    "words"
   ]
  },
  {
   "cell_type": "code",
   "execution_count": 2,
   "id": "24eb0092",
   "metadata": {},
   "outputs": [
    {
     "data": {
      "text/plain": [
       "(array(['John', 'Mary', 'also', 'football', 'games', 'likes', 'movies',\n",
       "        'to', 'too', 'watch'], dtype='<U8'),\n",
       " array([1, 2, 1, 1, 1, 3, 2, 2, 1, 2]))"
      ]
     },
     "execution_count": 2,
     "metadata": {},
     "output_type": "execute_result"
    }
   ],
   "source": [
    "import numpy as np\n",
    "word_count = np.unique(words, return_counts=True)\n",
    "word_count"
   ]
  },
  {
   "cell_type": "code",
   "execution_count": null,
   "id": "338e3852",
   "metadata": {},
   "outputs": [
    {
     "data": {
      "text/plain": [
       "{'John': 1,\n",
       " 'Mary': 2,\n",
       " 'also': 1,\n",
       " 'football': 1,\n",
       " 'games': 1,\n",
       " 'likes': 3,\n",
       " 'movies': 2,\n",
       " 'to': 2,\n",
       " 'too': 1,\n",
       " 'watch': 2}"
      ]
     },
     "execution_count": 9,
     "metadata": {},
     "output_type": "execute_result"
    }
   ],
   "source": [
    "word_to_cnt = {}\n",
    "for word, cnt in zip (*word_count):\n",
    "    word_to_cnt[word.item()] = int(cnt)\n",
    "word_to_cnt"
   ]
  },
  {
   "cell_type": "code",
   "execution_count": 10,
   "id": "734549f0",
   "metadata": {},
   "outputs": [
    {
     "data": {
      "text/plain": [
       "2"
      ]
     },
     "execution_count": 10,
     "metadata": {},
     "output_type": "execute_result"
    }
   ],
   "source": [
    "word_to_cnt['movies']"
   ]
  },
  {
   "cell_type": "markdown",
   "id": "9172a067",
   "metadata": {},
   "source": [
    "# TDM"
   ]
  },
  {
   "cell_type": "code",
   "execution_count": 1,
   "id": "b01de3f6",
   "metadata": {},
   "outputs": [],
   "source": [
    "corpus = [\"John likes to watch movies. Mary likes movies too.\",\n",
    "    \"Mary also likes to watch football games.\"]"
   ]
  },
  {
   "cell_type": "code",
   "execution_count": 13,
   "id": "16cbb60d",
   "metadata": {},
   "outputs": [
    {
     "name": "stdout",
     "output_type": "stream",
     "text": [
      "[[0 0 0 1 2 1 2 1 1 1]\n",
      " [1 1 1 0 1 1 0 1 0 1]]\n",
      "{'john': 3, 'likes': 4, 'to': 7, 'watch': 9, 'movies': 6, 'mary': 5, 'too': 8, 'also': 0, 'football': 1, 'games': 2}\n"
     ]
    }
   ],
   "source": [
    "from sklearn.feature_extraction.text import CountVectorizer\n",
    "vector = CountVectorizer()\n",
    "tdm_array = vector.fit_transform(corpus).toarray()\n",
    "tf_dic = vector.vocabulary_\n",
    "print(tdm_array)\n",
    "print(tf_dic)"
   ]
  },
  {
   "cell_type": "code",
   "execution_count": 20,
   "id": "09084c75",
   "metadata": {},
   "outputs": [
    {
     "data": {
      "text/html": [
       "<div>\n",
       "<style scoped>\n",
       "    .dataframe tbody tr th:only-of-type {\n",
       "        vertical-align: middle;\n",
       "    }\n",
       "\n",
       "    .dataframe tbody tr th {\n",
       "        vertical-align: top;\n",
       "    }\n",
       "\n",
       "    .dataframe thead th {\n",
       "        text-align: right;\n",
       "    }\n",
       "</style>\n",
       "<table border=\"1\" class=\"dataframe\">\n",
       "  <thead>\n",
       "    <tr style=\"text-align: right;\">\n",
       "      <th></th>\n",
       "      <th>also</th>\n",
       "      <th>football</th>\n",
       "      <th>games</th>\n",
       "      <th>john</th>\n",
       "      <th>likes</th>\n",
       "      <th>mary</th>\n",
       "      <th>movies</th>\n",
       "      <th>to</th>\n",
       "      <th>too</th>\n",
       "      <th>watch</th>\n",
       "    </tr>\n",
       "  </thead>\n",
       "  <tbody>\n",
       "    <tr>\n",
       "      <th>0</th>\n",
       "      <td>0</td>\n",
       "      <td>0</td>\n",
       "      <td>0</td>\n",
       "      <td>1</td>\n",
       "      <td>2</td>\n",
       "      <td>1</td>\n",
       "      <td>2</td>\n",
       "      <td>1</td>\n",
       "      <td>1</td>\n",
       "      <td>1</td>\n",
       "    </tr>\n",
       "    <tr>\n",
       "      <th>1</th>\n",
       "      <td>1</td>\n",
       "      <td>1</td>\n",
       "      <td>1</td>\n",
       "      <td>0</td>\n",
       "      <td>1</td>\n",
       "      <td>1</td>\n",
       "      <td>0</td>\n",
       "      <td>1</td>\n",
       "      <td>0</td>\n",
       "      <td>1</td>\n",
       "    </tr>\n",
       "  </tbody>\n",
       "</table>\n",
       "</div>"
      ],
      "text/plain": [
       "   also  football  games  john  likes  mary  movies  to  too  watch\n",
       "0     0         0      0     1      2     1       2   1    1      1\n",
       "1     1         1      1     0      1     1       0   1    0      1"
      ]
     },
     "execution_count": 20,
     "metadata": {},
     "output_type": "execute_result"
    }
   ],
   "source": [
    "import pandas as pd\n",
    "tf_dic_sorted = dict(sorted(tf_dic.items(), key=lambda item: item[1]))\n",
    "# tf_dic_sorted\n",
    "df = pd.DataFrame(tdm_array, columns=tf_dic_sorted.keys())\n",
    "df"
   ]
  },
  {
   "cell_type": "markdown",
   "id": "ce6277aa",
   "metadata": {},
   "source": [
    "# TF-IDF -> 매트릭스 생성"
   ]
  },
  {
   "cell_type": "code",
   "execution_count": 21,
   "id": "afd32851",
   "metadata": {},
   "outputs": [
    {
     "name": "stdout",
     "output_type": "stream",
     "text": [
      "       also  football     games      john     likes      mary    movies  \\\n",
      "0  0.000000  0.000000  0.000000  0.323699  0.460629  0.230315  0.647398   \n",
      "1  0.446101  0.446101  0.446101  0.000000  0.317404  0.317404  0.000000   \n",
      "\n",
      "         to       too     watch  \n",
      "0  0.230315  0.323699  0.230315  \n",
      "1  0.317404  0.000000  0.317404  \n"
     ]
    }
   ],
   "source": [
    "from sklearn.feature_extraction.text import TfidfVectorizer\n",
    "tfidf_vec = TfidfVectorizer()\n",
    "tfidf_array = tfidf_vec.fit_transform(corpus).toarray()\n",
    "tfidf_dic = tfidf_vec.vocabulary_\n",
    "tfidf_dic_sorted = dict(sorted(tfidf_dic.items(), key=lambda item: item[1]))\n",
    "tfidf_dtm = pd.DataFrame(tfidf_array,columns=tfidf_dic_sorted.keys())\n",
    "print(tfidf_dtm)"
   ]
  },
  {
   "cell_type": "code",
   "execution_count": 3,
   "id": "19010963",
   "metadata": {},
   "outputs": [],
   "source": [
    "from gensim.models import Word2Vec\n",
    "corpus = [\"John likes to watch movies. Mary likes movies too.\",\n",
    "    \"Mary also likes to watch football games.\"]\n",
    "\n",
    "word_list = []"
   ]
  },
  {
   "cell_type": "code",
   "execution_count": 4,
   "id": "73e2265a",
   "metadata": {},
   "outputs": [
    {
     "data": {
      "text/plain": [
       "[['John', 'likes', 'to', 'watch', 'movies', 'Mary', 'likes', 'movies', 'too'],\n",
       " ['Mary', 'also', 'likes', 'to', 'watch', 'football', 'games']]"
      ]
     },
     "execution_count": 4,
     "metadata": {},
     "output_type": "execute_result"
    }
   ],
   "source": [
    "for word in corpus:\n",
    "    word_list.append(word.replace('.','').split())\n",
    "    \n",
    "word_list"
   ]
  },
  {
   "cell_type": "code",
   "execution_count": 7,
   "id": "c79a92f8",
   "metadata": {},
   "outputs": [
    {
     "data": {
      "text/plain": [
       "[('John', 0.17164471745491028),\n",
       " ('also', 0.06594578176736832),\n",
       " ('Mary', 0.008838453330099583),\n",
       " ('watch', -0.06765829026699066),\n",
       " ('games', -0.08544928580522537),\n",
       " ('football', -0.08948154747486115),\n",
       " ('too', -0.11860241740942001),\n",
       " ('to', -0.13643866777420044)]"
      ]
     },
     "execution_count": 7,
     "metadata": {},
     "output_type": "execute_result"
    }
   ],
   "source": [
    "model = Word2Vec(word_list, sg=0, vector_size=100, window=3, min_count=1)\n",
    "model.wv.most_similar('likes', 'movies')"
   ]
  },
  {
   "cell_type": "code",
   "execution_count": 8,
   "id": "febbb3b7",
   "metadata": {},
   "outputs": [
    {
     "data": {
      "text/plain": [
       "[('John', 0.17164471745491028),\n",
       " ('also', 0.06594578176736832),\n",
       " ('Mary', 0.008853347972035408),\n",
       " ('watch', -0.06765829026699066),\n",
       " ('games', -0.08544928580522537),\n",
       " ('football', -0.08948154747486115),\n",
       " ('too', -0.11860241740942001),\n",
       " ('to', -0.13643862307071686)]"
      ]
     },
     "execution_count": 8,
     "metadata": {},
     "output_type": "execute_result"
    }
   ],
   "source": [
    "model = Word2Vec(word_list, sg=1, vector_size=100, window=3, min_count=1)\n",
    "model.wv.most_similar('likes', 'movies')"
   ]
  },
  {
   "cell_type": "code",
   "execution_count": 10,
   "id": "6d592de4",
   "metadata": {},
   "outputs": [
    {
     "data": {
      "text/plain": [
       "[('to', 0.13887979090213776),\n",
       " ('watch', 0.13149002194404602),\n",
       " ('movies', 0.06408978253602982),\n",
       " ('too', 0.06059185042977333),\n",
       " ('football', 0.019152285531163216),\n",
       " ('Mary', 0.009383062832057476),\n",
       " ('also', -0.05774582177400589),\n",
       " ('likes', -0.05987628549337387),\n",
       " ('John', -0.10513809323310852)]"
      ]
     },
     "execution_count": 10,
     "metadata": {},
     "output_type": "execute_result"
    }
   ],
   "source": [
    "model.wv.most_similar('games')"
   ]
  }
 ],
 "metadata": {
  "kernelspec": {
   "display_name": "tf_cuda_env",
   "language": "python",
   "name": "python3"
  },
  "language_info": {
   "codemirror_mode": {
    "name": "ipython",
    "version": 3
   },
   "file_extension": ".py",
   "mimetype": "text/x-python",
   "name": "python",
   "nbconvert_exporter": "python",
   "pygments_lexer": "ipython3",
   "version": "3.10.18"
  }
 },
 "nbformat": 4,
 "nbformat_minor": 5
}
